{
  "nbformat": 4,
  "nbformat_minor": 0,
  "metadata": {
    "colab": {
      "provenance": []
    },
    "kernelspec": {
      "name": "python3",
      "display_name": "Python 3"
    },
    "language_info": {
      "name": "python"
    }
  },
  "cells": [
    {
      "cell_type": "code",
      "execution_count": null,
      "metadata": {
        "colab": {
          "base_uri": "https://localhost:8080/"
        },
        "id": "NCWK6Vu4vKAu",
        "outputId": "0bc890ef-670d-49e7-8adb-b435ce9ed116"
      },
      "outputs": [
        {
          "output_type": "stream",
          "name": "stdout",
          "text": [
            "10\n",
            "<class 'int'>\n"
          ]
        }
      ],
      "source": [
        "x = 10\n",
        "print(x)\n",
        "print(type(x))"
      ]
    },
    {
      "cell_type": "code",
      "source": [
        "ledger = []\n",
        "def add_transaction(transaction):\n",
        "  ledger.append(transaction)\n",
        "  print(f\"Transaction of {transaction} added to the ledger.\")"
      ],
      "metadata": {
        "id": "GKivy3OMvrGB"
      },
      "execution_count": null,
      "outputs": []
    },
    {
      "cell_type": "code",
      "source": [
        "add_transaction(100)\n",
        "add_transaction(200)"
      ],
      "metadata": {
        "colab": {
          "base_uri": "https://localhost:8080/"
        },
        "id": "6u-ou4lIxFlQ",
        "outputId": "fba9b250-1180-43d7-b238-84e0c6b3ea2c"
      },
      "execution_count": null,
      "outputs": [
        {
          "output_type": "stream",
          "name": "stdout",
          "text": [
            "Transaction of 100 added to the ledger.\n",
            "Transaction of 200 added to the ledger.\n"
          ]
        }
      ]
    },
    {
      "cell_type": "code",
      "source": [
        "print(\"Current Ledger:\")\n",
        "print(ledger)"
      ],
      "metadata": {
        "colab": {
          "base_uri": "https://localhost:8080/"
        },
        "id": "N3m9r1y0xULn",
        "outputId": "1728d809-7699-48a2-a56e-1224ad46370e"
      },
      "execution_count": null,
      "outputs": [
        {
          "output_type": "stream",
          "name": "stdout",
          "text": [
            "Current Ledger:\n",
            "[100, 200]\n"
          ]
        }
      ]
    },
    {
      "cell_type": "code",
      "source": [
        "hospital_ledger = []\n",
        "def add_patients_visit(patients_name, Treatment, Cost):\n",
        "  Visit = {\n",
        "      \"patients_name\": patients_name,\n",
        "      \"Treatment\": Treatment,\n",
        "      \"Cost\": Cost\n",
        "\n",
        "  }\n",
        "  hospital_ledger.append(Visit)\n",
        "  print(f\"Visit of {patients_name} added to the ledger.\")\n",
        "\n",
        "add_patients_visit(\"Alok\",\"X-ray\",2000.3)\n",
        "add_patients_visit(\"Arpit\",\"piles\",5000000.3433)\n",
        "add_patients_visit(\"Rajveer\",\"BP\",4002.402)\n",
        "print(\"Hospital Ledger:\")\n",
        "for visit in hospital_ledger:\n",
        "  print(visit)"
      ],
      "metadata": {
        "colab": {
          "base_uri": "https://localhost:8080/"
        },
        "id": "8SsJd3iGxpa-",
        "outputId": "50883754-2f16-4d3c-9864-bccd98b96f7f"
      },
      "execution_count": null,
      "outputs": [
        {
          "output_type": "stream",
          "name": "stdout",
          "text": [
            "Visit of Alok added to the ledger.\n",
            "Visit of Arpit added to the ledger.\n",
            "Visit of Rajveer added to the ledger.\n",
            "Hospital Ledger:\n",
            "{'patients_name': 'Alok', 'Treatment': 'X-ray', 'Cost': 2000.3}\n",
            "{'patients_name': 'Arpit', 'Treatment': 'piles', 'Cost': 5000000.3433}\n",
            "{'patients_name': 'Rajveer', 'Treatment': 'BP', 'Cost': 4002.402}\n"
          ]
        }
      ]
    },
    {
      "cell_type": "code",
      "source": [
        "hospital_ledger = []\n",
        "def add_patients_visit():\n",
        "\n",
        "  patients_name = input(\"Enter the patient's name: \")\n",
        "  Treatment = input(\"Enter the treatment: \")\n",
        "  Cost = float(input(\"Enter the cost:\"))\n",
        "  Visit = {\n",
        "      \"patients_name\": patients_name,\n",
        "      \"Treatment\": Treatment,\n",
        "      \"Cost\": Cost\n",
        "\n",
        "  }\n",
        "  hospital_ledger.append(Visit)\n",
        "\n",
        "  print(f\"Visit of {patients_name} added to the ledger.\")\n",
        "\n",
        "add_patients_visit()\n",
        "for visit in hospital_ledger:\n",
        "  print(visit)"
      ],
      "metadata": {
        "colab": {
          "base_uri": "https://localhost:8080/"
        },
        "id": "Lh8f3wHU3gJO",
        "outputId": "b7e9b3b6-6d32-4189-aef2-7f3d9594a4bb"
      },
      "execution_count": null,
      "outputs": [
        {
          "output_type": "stream",
          "name": "stdout",
          "text": [
            "Enter the patient's name: alok\n",
            "Enter the treatment: cancer\n",
            "Enter the cost:40000.03\n",
            "Visit of alok added to the ledger.\n",
            "{'patients_name': 'alok', 'Treatment': 'cancer', 'Cost': 40000.03}\n"
          ]
        }
      ]
    },
    {
      "cell_type": "code",
      "source": [
        "\n",
        "hospital_ledger_advanced = {}\n",
        "\n",
        "\n",
        "def add_patient_visit_advanced(patient_name, treatment, cost, date_of_visit):\n",
        "\n",
        "    if patient_name not in hospital_ledger_advanced:\n",
        "        hospital_ledger_advanced[patient_name] = []\n",
        "\n",
        "\n",
        "    visit = {\n",
        "        \"treatment\": treatment,\n",
        "        \"cost\": cost,\n",
        "        \"date_of_visit\": date_of_visit\n",
        "    }\n",
        "    hospital_ledger_advanced[patient_name].append(visit)\n",
        "    print(f\"Visit added for {patient_name} on {date_of_visit} for treatment {treatment} costing {cost}.\")\n",
        "\n",
        "add_patient_visit_advanced(\"John Doe\", \"Check-up\", 150, \"2025-02-09\")\n",
        "add_patient_visit_advanced(\"John Doe\", \"X-ray\", 250, \"2025-02-10\")\n",
        "add_patient_visit_advanced(\"Jane Smith\", \"Blood Test\", 100, \"2025-02-08\")\n",
        "\n",
        "\n",
        "print(\"\\nAdvanced Hospital Ledger:\")\n",
        "for patient, visits in hospital_ledger_advanced.items():\n",
        "    print(f\"\\nPatient: {patient}\")\n",
        "    for visit in visits:\n",
        "        print(f\"  Treatment: {visit['treatment']}, Cost: {visit['cost']}, Date: {visit['date_of_visit']}\")"
      ],
      "metadata": {
        "colab": {
          "base_uri": "https://localhost:8080/"
        },
        "id": "UqGLmCEb5Qpl",
        "outputId": "a7cb9643-d05b-4c6c-a9c5-96aa88fedd9b"
      },
      "execution_count": null,
      "outputs": [
        {
          "output_type": "stream",
          "name": "stdout",
          "text": [
            "Visit added for John Doe on 2025-02-09 for treatment Check-up costing 150.\n",
            "Visit added for John Doe on 2025-02-10 for treatment X-ray costing 250.\n",
            "Visit added for Jane Smith on 2025-02-08 for treatment Blood Test costing 100.\n",
            "\n",
            "Advanced Hospital Ledger:\n",
            "\n",
            "Patient: John Doe\n",
            "  Treatment: Check-up, Cost: 150, Date: 2025-02-09\n",
            "  Treatment: X-ray, Cost: 250, Date: 2025-02-10\n",
            "\n",
            "Patient: Jane Smith\n",
            "  Treatment: Blood Test, Cost: 100, Date: 2025-02-08\n"
          ]
        }
      ]
    },
    {
      "cell_type": "code",
      "source": [
        "hospital_ledger_advanced = {}\n",
        "def add_patient_visit_advanced():\n",
        "\n",
        "  patients_name = input(\"Enter the patient's name: \")\n",
        "  Treatment = input(\"Enter the treatment: \")\n",
        "  Cost = float(input(\"Enter the cost:\"))\n",
        "  date_of_visit = input(\"Enter the date of visit:\")\n",
        "  if patients_name not in hospital_ledger_advanced:\n",
        "        hospital_ledger_advanced[patients_name] = []\n",
        "\n",
        "\n",
        "  visit = {\n",
        "      \"Treatment\": Treatment,\n",
        "      \"Cost\": Cost,\n",
        "      \"date_of_visit\": date_of_visit\n",
        "    }\n",
        "  hospital_ledger_advanced[patients_name].append(visit)\n",
        "  print(f\"Visit added for {patients_name} on {date_of_visit} for treatment {Treatment} costing {Cost}.\")\n",
        "\n",
        "add_patient_visit_advanced()\n",
        "\n",
        "\n",
        "print(\"\\nAdvanced Hospital Ledger:\")\n",
        "for patient, visits in hospital_ledger_advanced.items():\n",
        "    print(f\"\\nPatient: {patient}\")\n",
        "    for visit in visits:\n",
        "        print(f\"  Treatment: {visit['Treatment']}, Cost: {visit['Cost']}, Date: {visit['date_of_visit']}\")"
      ],
      "metadata": {
        "colab": {
          "base_uri": "https://localhost:8080/"
        },
        "id": "jbldhgH6-Ltu",
        "outputId": "e7041dae-dd28-4c95-e599-a99d79445862"
      },
      "execution_count": null,
      "outputs": [
        {
          "output_type": "stream",
          "name": "stdout",
          "text": [
            "Enter the patient's name: ALOK\n",
            "Enter the treatment: LOOSE MOTION\n",
            "Enter the cost:30\n",
            "Enter the date of visit:2025-02-10\n",
            "Visit added for ALOK on 2025-02-10 for treatment LOOSE MOTION costing 30.0.\n",
            "\n",
            "Advanced Hospital Ledger:\n",
            "\n",
            "Patient: ALOK\n",
            "  Treatment: LOOSE MOTION, Cost: 30.0, Date: 2025-02-10\n"
          ]
        }
      ]
    },
    {
      "cell_type": "code",
      "source": [],
      "metadata": {
        "id": "e51Qjnoi_GmG"
      },
      "execution_count": null,
      "outputs": []
    }
  ]
}