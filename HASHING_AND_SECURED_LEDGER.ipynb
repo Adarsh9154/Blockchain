{
  "nbformat": 4,
  "nbformat_minor": 0,
  "metadata": {
    "colab": {
      "provenance": []
    },
    "kernelspec": {
      "name": "python3",
      "display_name": "Python 3"
    },
    "language_info": {
      "name": "python"
    }
  },
  "cells": [
    {
      "cell_type": "code",
      "execution_count": 1,
      "metadata": {
        "id": "VcEiqEgY_o1p"
      },
      "outputs": [],
      "source": [
        "import hashlib"
      ]
    },
    {
      "cell_type": "code",
      "source": [
        "# Input data\n",
        "data = \"Hello, blockchain!\"\n",
        "hashed_data = hashlib.sha256(data.encode()).hexdigest()\n",
        "print(f\"Original Data: {data}\")\n",
        "print(f\"Hashed Data: {hashed_data}\")"
      ],
      "metadata": {
        "colab": {
          "base_uri": "https://localhost:8080/"
        },
        "id": "RGgKEQfDAEJE",
        "outputId": "b9347e1e-556e-4303-ae0e-237a8fd817dd"
      },
      "execution_count": 2,
      "outputs": [
        {
          "output_type": "stream",
          "name": "stdout",
          "text": [
            "Original Data: Hello, blockchain!\n",
            "Hashed Data: e485541186cd67682999c1ad80eac78fb803ec57885c26d5489efb01f15ae913\n"
          ]
        }
      ]
    },
    {
      "cell_type": "code",
      "source": [
        "hs1 = hashlib.sha256(\"Mosambi ka juice\".encode()).hexdigest()\n",
        "print(f\"Hashed Mosambi ka juice: {hs1}\")"
      ],
      "metadata": {
        "colab": {
          "base_uri": "https://localhost:8080/"
        },
        "id": "xDi4cYExAJN9",
        "outputId": "de79a14a-e6bc-42d5-ecf9-1277b1c44bc2"
      },
      "execution_count": 3,
      "outputs": [
        {
          "output_type": "stream",
          "name": "stdout",
          "text": [
            "Hashed Data: 9840dd28829517e02403a1921f01b1d6697685aed7ec42583fca3495cb65492b\n"
          ]
        }
      ]
    },
    {
      "cell_type": "code",
      "source": [
        "hash2 = hashlib.sha256(\"banana\".encode()).hexdigest()\n",
        "print(f\"Hash for 'banana': {hash2}\")"
      ],
      "metadata": {
        "colab": {
          "base_uri": "https://localhost:8080/"
        },
        "id": "cUMbx7OcBIbu",
        "outputId": "1caf158a-e4b9-42ba-97f2-6d589a97babb"
      },
      "execution_count": 4,
      "outputs": [
        {
          "output_type": "stream",
          "name": "stdout",
          "text": [
            "Hash for 'banana': b493d48364afe44d11c0165cf470a4164d1e2609911ef998be868d46ade3de4e\n"
          ]
        }
      ]
    },
    {
      "cell_type": "code",
      "source": [
        "hash3 = hashlib.sha256(\"santra\".encode()).hexdigest()\n",
        "print(f\"Hash for 'santra': {hash3}\")"
      ],
      "metadata": {
        "colab": {
          "base_uri": "https://localhost:8080/"
        },
        "id": "FxcyzZ0oB4cM",
        "outputId": "78e12aaf-e080-4eea-cba2-50854792e8fe"
      },
      "execution_count": 5,
      "outputs": [
        {
          "output_type": "stream",
          "name": "stdout",
          "text": [
            "Hash for 'santra': 73b07d3df1b8d828f241aa5bf1be8725d541d66ad111b1a7013f83204aeaeae9\n"
          ]
        }
      ]
    },
    {
      "cell_type": "code",
      "source": [
        "hash3 = hashlib.sha256(\"bananan\".encode()).hexdigest()\n",
        "print(f\"Hash for 'bananan': {hash3}\")\n"
      ],
      "metadata": {
        "colab": {
          "base_uri": "https://localhost:8080/"
        },
        "id": "ox-d7QURCPuU",
        "outputId": "2c647698-2fd7-4e02-94d6-ea9ea7449638"
      },
      "execution_count": 7,
      "outputs": [
        {
          "output_type": "stream",
          "name": "stdout",
          "text": [
            "Hash for 'bananan': ca94b0a11c43cec9fb12c6fee3ef513cdbe0eb4ae0d83585b2a6a2a9c8a8254a\n"
          ]
        }
      ]
    }
  ]
}